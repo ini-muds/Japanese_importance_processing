{
 "cells": [
  {
   "cell_type": "code",
   "execution_count": null,
   "metadata": {},
   "outputs": [],
   "source": [
    "# ginzaを用いた形態素解析処理とIF-IDFによる特徴量抽出"
   ]
  },
  {
   "cell_type": "code",
   "execution_count": null,
   "metadata": {},
   "outputs": [],
   "source": [
    "!pip install -U ginza ja-ginza\n",
    "!pip install nlplot"
   ]
  },
  {
   "cell_type": "code",
   "execution_count": null,
   "metadata": {},
   "outputs": [],
   "source": [
    "import spacy\n",
    "import pandas as pd\n",
    "from sklearn.feature_extraction.text import TfidfVectorizer\n",
    "from tqdm import tqdm\n",
    "\n",
    "# データセットをロード\n",
    "df = pd.read_csv('sample.csv')\n",
    "\n",
    "# 日本語の言語モデルをロード\n",
    "nlp = spacy.load(\"ja_ginza\")"
   ]
  },
  {
   "cell_type": "code",
   "execution_count": null,
   "metadata": {},
   "outputs": [],
   "source": [
    "# 追加したいストップワードのリスト\n",
    "new_stopwords = []\n",
    "\n",
    "# ストップワードリストに新しい単語を追加\n",
    "for word in new_stopwords:\n",
    "    nlp.vocab[word].is_stop = True"
   ]
  },
  {
   "cell_type": "code",
   "execution_count": null,
   "metadata": {},
   "outputs": [],
   "source": [
    "def process_text(text, allowed_postags):\n",
    "    doc = nlp(text)\n",
    "    words = [token.lemma_ for token in doc if token.tag_ in allowed_postags and not token.is_stop]\n",
    "    return \" \".join(words)"
   ]
  },
  {
   "cell_type": "code",
   "execution_count": null,
   "metadata": {},
   "outputs": [],
   "source": [
    "# 目次のための形態素\n",
    "mokuji_postags = ['名詞-普通名詞-一般',]\n",
    "# 紹介文のための形態素\n",
    "shoukai_postags = ['名詞-普通名詞-一般', '動詞-一般', '形容詞-一般']"
   ]
  },
  {
   "cell_type": "code",
   "execution_count": null,
   "metadata": {},
   "outputs": [],
   "source": [
    "# '目次' と '紹介文' のカラムを処理\n",
    "df['processed_目次'] = df['目次'].astype(str).apply(lambda x: process_text(x, mokuji_postags))\n",
    "df['processed_紹介文'] = df['商品紹介'].astype(str).apply(lambda x: process_text(x, shoukai_postags))"
   ]
  },
  {
   "cell_type": "code",
   "execution_count": null,
   "metadata": {},
   "outputs": [],
   "source": [
    "# テキストから上位のフィーチャを抽出する関数\n",
    "def extract_top_features(column, top_n=5):\n",
    "    vectorizer = TfidfVectorizer()\n",
    "    X = vectorizer.fit_transform(df[column])\n",
    "    words = vectorizer.get_feature_names_out()\n",
    "\n",
    "    top_features = []\n",
    "    for vec in X.toarray():\n",
    "        top_indices = sorted(range(len(vec)), key=lambda i: vec[i], reverse=True)[:top_n]\n",
    "        top_features.append([(words[i], vec[i]) for i in top_indices])\n",
    "\n",
    "    return top_features"
   ]
  },
  {
   "cell_type": "code",
   "execution_count": null,
   "metadata": {},
   "outputs": [],
   "source": [
    "df['目次の上位5特徴語'] = extract_top_features('processed_目次')\n",
    "df['紹介文の上位5特徴語'] = extract_top_features('processed_紹介文')"
   ]
  }
 ],
 "metadata": {
  "language_info": {
   "name": "python"
  }
 },
 "nbformat": 4,
 "nbformat_minor": 2
}
